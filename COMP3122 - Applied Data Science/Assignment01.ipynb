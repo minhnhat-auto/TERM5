{
  "nbformat": 4,
  "nbformat_minor": 0,
  "metadata": {
    "colab": {
      "provenance": []
    },
    "kernelspec": {
      "name": "python3",
      "display_name": "Python 3"
    },
    "language_info": {
      "name": "python"
    }
  },
  "cells": [
    {
      "cell_type": "markdown",
      "source": [
        "# Minh Nhat Vo"
      ],
      "metadata": {
        "id": "ViedhWGfglw3"
      }
    },
    {
      "cell_type": "markdown",
      "source": [
        "### Assignment 01"
      ],
      "metadata": {
        "id": "N7KKIP7Sg5Yu"
      }
    },
    {
      "cell_type": "markdown",
      "source": [
        "Student ID: 4717\n",
        "\n"
      ],
      "metadata": {
        "id": "cPJVzINbhlsf"
      }
    },
    {
      "cell_type": "code",
      "source": [
        "import pandas as pd\n",
        "import numpy as np"
      ],
      "metadata": {
        "id": "T2BTKMN8iI8u"
      },
      "execution_count": 4,
      "outputs": []
    },
    {
      "cell_type": "code",
      "source": [
        "dt = pd.read_csv('/content/biostats.csv')\n",
        "print(dt['Age'])\n"
      ],
      "metadata": {
        "colab": {
          "base_uri": "https://localhost:8080/"
        },
        "id": "ghn0fbNqiI6I",
        "outputId": "e907ab04-e577-4c78-f620-b924aa94b3c0"
      },
      "execution_count": 27,
      "outputs": [
        {
          "output_type": "stream",
          "name": "stdout",
          "text": [
            "0     41\n",
            "1     42\n",
            "2     32\n",
            "3     39\n",
            "4     30\n",
            "5     33\n",
            "6     26\n",
            "7     30\n",
            "8     53\n",
            "9     32\n",
            "10    47\n",
            "11    34\n",
            "12    23\n",
            "13    36\n",
            "14    38\n",
            "15    31\n",
            "16    29\n",
            "17    28\n",
            "Name: Age, dtype: int64\n"
          ]
        }
      ]
    },
    {
      "cell_type": "code",
      "source": [
        "ave = np.average(dt['Age'])\n",
        "print(\"The average of Age is \" + str(ave))\n",
        "devi = np.std(dt['Age'])\n",
        "print(\"The deviation of Age is \" + str(devi))\n",
        "min = np.min(dt['Age'])\n",
        "print(\"The minimum of Age is \" + str(min))\n",
        "max = np.max(dt['Age'])\n",
        "print(\"The maximum of Age is \" + str(max))\n"
      ],
      "metadata": {
        "colab": {
          "base_uri": "https://localhost:8080/"
        },
        "id": "ZJ6QC07YiI3A",
        "outputId": "779600d2-75ad-494a-9ced-3f2cf10bfd9f"
      },
      "execution_count": 7,
      "outputs": [
        {
          "output_type": "stream",
          "name": "stdout",
          "text": [
            "The average of Age is 34.666666666666664\n",
            "The deviation of Age is 7.363574011458175\n",
            "The minimum of Age is 23\n",
            "The maximum of Age is 53\n"
          ]
        }
      ]
    },
    {
      "cell_type": "code",
      "source": [
        "print(\"30th percentile of Age column : \",\n",
        "        np.percentile(dt['Age'],30, axis=0))\n",
        "print(\"Median of Age column : \",\n",
        "        np.median(dt['Age']))\n",
        "print(\"70th percentile of Age column : \",\n",
        "        np.percentile(dt['Age'],50, axis=0))"
      ],
      "metadata": {
        "colab": {
          "base_uri": "https://localhost:8080/"
        },
        "id": "38NjJa0NiI0Z",
        "outputId": "efeef529-78d1-46e1-9f17-c89d1d19a6dd"
      },
      "execution_count": 9,
      "outputs": [
        {
          "output_type": "stream",
          "name": "stdout",
          "text": [
            "30th percentile of Age column :  30.1\n",
            "Median of Age column :  32.5\n",
            "70th percentile of Age column :  32.5\n"
          ]
        }
      ]
    },
    {
      "cell_type": "code",
      "source": [
        "from matplotlib import pyplot as plt"
      ],
      "metadata": {
        "id": "ekLixCdpiItH"
      },
      "execution_count": 10,
      "outputs": []
    },
    {
      "cell_type": "code",
      "source": [
        "x = dt['Age']\n",
        "\n",
        "plt.hist(x,bins = 10, edgecolor = 'white')\n",
        "plt.title('Age Distribution - By Vo')\n",
        "plt.ylabel('Number')\n",
        "plt.xlabel('Age')\n",
        "plt.show()\n"
      ],
      "metadata": {
        "id": "wip2H1EKiIqg",
        "colab": {
          "base_uri": "https://localhost:8080/",
          "height": 295
        },
        "outputId": "83ca950f-93b9-4f35-8df9-863228c461af"
      },
      "execution_count": 53,
      "outputs": [
        {
          "output_type": "display_data",
          "data": {
            "text/plain": [
              "<Figure size 432x288 with 1 Axes>"
            ],
            "image/png": "[encoded data removed]"
          },
          "metadata": {
            "needs_background": "light"
          }
        }
      ]
    }
  ]
}