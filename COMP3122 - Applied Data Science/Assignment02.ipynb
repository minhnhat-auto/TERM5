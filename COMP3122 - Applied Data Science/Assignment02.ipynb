{
  "nbformat": 4,
  "nbformat_minor": 0,
  "metadata": {
    "colab": {
      "provenance": []
    },
    "kernelspec": {
      "name": "python3",
      "display_name": "Python 3"
    },
    "language_info": {
      "name": "python"
    }
  },
  "cells": [
    {
      "cell_type": "markdown",
      "source": [
        "\n",
        "\n",
        "# Minh Nhat Vo\n",
        "\n"
      ],
      "metadata": {
        "id": "VRsIPRrd-uLY"
      }
    },
    {
      "cell_type": "markdown",
      "source": [
        "## Assignment 02"
      ],
      "metadata": {
        "id": "lScwZmGW-5SS"
      }
    },
    {
      "cell_type": "markdown",
      "source": [
        "Student ID: 4717"
      ],
      "metadata": {
        "id": "bkZMNN_y-_Lg"
      }
    },
    {
      "cell_type": "markdown",
      "source": [
        "### Part A"
      ],
      "metadata": {
        "id": "0qvK2Vmv_U3u"
      }
    },
    {
      "cell_type": "code",
      "source": [
        "import pandas as pd\n",
        "import numpy as np\n",
        "from sklearn import datasets\n",
        "from sklearn import tree"
      ],
      "metadata": {
        "id": "fBId7_tm_IIf"
      },
      "execution_count": 39,
      "outputs": []
    },
    {
      "cell_type": "code",
      "source": [
        "data_table={\n",
        "    'Humidity (%)': ['72', '44', '66', '22', '7', '60', '8', '20', '79', '12','0','1.11', '4', '9.23','76.23', '34.22', '22.22', '19.13', '55.43', '46.56'],\n",
        "    'Temp (C)' : ['-1', '26.59', '3.5', '30', '35', '22', '34', '31', '16','32.33', '22', '40', '33.34', '40','12','30', '25.55', '-2.3', '2', '29.44'],\n",
        "    'Precipitation rate (mm/h)' : ['1', '1.9', '20', '10', '8', '30', '12', '29', '1.2','1.22', '8.25', '4.01', '3.03', '55','1.11','0', '2.22', '7.11', '15.55', '34.55'],\n",
        "    'Wind (Km/h)': ['15', '10', '2', '5', '11', '20', '30', '3', '38', '3.23', '3.33', '2', '10.22', '3.23', '1.98', '20', '5.55', '0', '7.99', '3.43' ],\n",
        "    'PlayTennis': ['0', '1', '0', '1', '1', '0', '0', '1', '0', '1', '1', '0', '1' , '0', '0', '0', '1','0', '0', '1']\n",
        "}\n",
        "tennis_Weather_Conditions_Tabel = pd.DataFrame(data_table, columns=data_table.keys())\n",
        "tennis_Weather_Conditions_Tabel"
      ],
      "metadata": {
        "colab": {
          "base_uri": "https://localhost:8080/",
          "height": 676
        },
        "id": "1T7yTSX5LKdz",
        "outputId": "0143be28-3158-4bb1-845d-d8d07099f4a3"
      },
      "execution_count": 48,
      "outputs": [
        {
          "output_type": "execute_result",
          "data": {
            "text/plain": [
              "   Humidity (%) Temp (C) Precipitation rate (mm/h) Wind (Km/h) PlayTennis\n",
              "0            72       -1                         1          15          0\n",
              "1            44    26.59                       1.9          10          1\n",
              "2            66      3.5                        20           2          0\n",
              "3            22       30                        10           5          1\n",
              "4             7       35                         8          11          1\n",
              "5            60       22                        30          20          0\n",
              "6             8       34                        12          30          0\n",
              "7            20       31                        29           3          1\n",
              "8            79       16                       1.2          38          0\n",
              "9            12    32.33                      1.22        3.23          1\n",
              "10            0       22                      8.25        3.33          1\n",
              "11         1.11       40                      4.01           2          0\n",
              "12            4    33.34                      3.03       10.22          1\n",
              "13         9.23       40                        55        3.23          0\n",
              "14        76.23       12                      1.11        1.98          0\n",
              "15        34.22       30                         0          20          0\n",
              "16        22.22    25.55                      2.22        5.55          1\n",
              "17        19.13     -2.3                      7.11           0          0\n",
              "18        55.43        2                     15.55        7.99          0\n",
              "19        46.56    29.44                     34.55        3.43          1"
            ],
            "text/html": [
              "\n",
              "  <div id=\"df-7ece9df6-4f3d-41d2-993f-597377019ab3\">\n",
              "    <div class=\"colab-df-container\">\n",
              "      <div>\n",
              "<style scoped>\n",
              "    .dataframe tbody tr th:only-of-type {\n",
              "        vertical-align: middle;\n",
              "    }\n",
              "\n",
              "    .dataframe tbody tr th {\n",
              "        vertical-align: top;\n",
              "    }\n",
              "\n",
              "    .dataframe thead th {\n",
              "        text-align: right;\n",
              "    }\n",
              "</style>\n",
              "<table border=\"1\" class=\"dataframe\">\n",
              "  <thead>\n",
              "    <tr style=\"text-align: right;\">\n",
              "      <th></th>\n",
              "      <th>Humidity (%)</th>\n",
              "      <th>Temp (C)</th>\n",
              "      <th>Precipitation rate (mm/h)</th>\n",
              "      <th>Wind (Km/h)</th>\n",
              "      <th>PlayTennis</th>\n",
              "    </tr>\n",
              "  </thead>\n",
              "  <tbody>\n",
              "    <tr>\n",
              "      <th>0</th>\n",
              "      <td>72</td>\n",
              "      <td>-1</td>\n",
              "      <td>1</td>\n",
              "      <td>15</td>\n",
              "      <td>0</td>\n",
              "    </tr>\n",
              "    <tr>\n",
              "      <th>1</th>\n",
              "      <td>44</td>\n",
              "      <td>26.59</td>\n",
              "      <td>1.9</td>\n",
              "      <td>10</td>\n",
              "      <td>1</td>\n",
              "    </tr>\n",
              "    <tr>\n",
              "      <th>2</th>\n",
              "      <td>66</td>\n",
              "      <td>3.5</td>\n",
              "      <td>20</td>\n",
              "      <td>2</td>\n",
              "      <td>0</td>\n",
              "    </tr>\n",
              "    <tr>\n",
              "      <th>3</th>\n",
              "      <td>22</td>\n",
              "      <td>30</td>\n",
              "      <td>10</td>\n",
              "      <td>5</td>\n",
              "      <td>1</td>\n",
              "    </tr>\n",
              "    <tr>\n",
              "      <th>4</th>\n",
              "      <td>7</td>\n",
              "      <td>35</td>\n",
              "      <td>8</td>\n",
              "      <td>11</td>\n",
              "      <td>1</td>\n",
              "    </tr>\n",
              "    <tr>\n",
              "      <th>5</th>\n",
              "      <td>60</td>\n",
              "      <td>22</td>\n",
              "      <td>30</td>\n",
              "      <td>20</td>\n",
              "      <td>0</td>\n",
              "    </tr>\n",
              "    <tr>\n",
              "      <th>6</th>\n",
              "      <td>8</td>\n",
              "      <td>34</td>\n",
              "      <td>12</td>\n",
              "      <td>30</td>\n",
              "      <td>0</td>\n",
              "    </tr>\n",
              "    <tr>\n",
              "      <th>7</th>\n",
              "      <td>20</td>\n",
              "      <td>31</td>\n",
              "      <td>29</td>\n",
              "      <td>3</td>\n",
              "      <td>1</td>\n",
              "    </tr>\n",
              "    <tr>\n",
              "      <th>8</th>\n",
              "      <td>79</td>\n",
              "      <td>16</td>\n",
              "      <td>1.2</td>\n",
              "      <td>38</td>\n",
              "      <td>0</td>\n",
              "    </tr>\n",
              "    <tr>\n",
              "      <th>9</th>\n",
              "      <td>12</td>\n",
              "      <td>32.33</td>\n",
              "      <td>1.22</td>\n",
              "      <td>3.23</td>\n",
              "      <td>1</td>\n",
              "    </tr>\n",
              "    <tr>\n",
              "      <th>10</th>\n",
              "      <td>0</td>\n",
              "      <td>22</td>\n",
              "      <td>8.25</td>\n",
              "      <td>3.33</td>\n",
              "      <td>1</td>\n",
              "    </tr>\n",
              "    <tr>\n",
              "      <th>11</th>\n",
              "      <td>1.11</td>\n",
              "      <td>40</td>\n",
              "      <td>4.01</td>\n",
              "      <td>2</td>\n",
              "      <td>0</td>\n",
              "    </tr>\n",
              "    <tr>\n",
              "      <th>12</th>\n",
              "      <td>4</td>\n",
              "      <td>33.34</td>\n",
              "      <td>3.03</td>\n",
              "      <td>10.22</td>\n",
              "      <td>1</td>\n",
              "    </tr>\n",
              "    <tr>\n",
              "      <th>13</th>\n",
              "      <td>9.23</td>\n",
              "      <td>40</td>\n",
              "      <td>55</td>\n",
              "      <td>3.23</td>\n",
              "      <td>0</td>\n",
              "    </tr>\n",
              "    <tr>\n",
              "      <th>14</th>\n",
              "      <td>76.23</td>\n",
              "      <td>12</td>\n",
              "      <td>1.11</td>\n",
              "      <td>1.98</td>\n",
              "      <td>0</td>\n",
              "    </tr>\n",
              "    <tr>\n",
              "      <th>15</th>\n",
              "      <td>34.22</td>\n",
              "      <td>30</td>\n",
              "      <td>0</td>\n",
              "      <td>20</td>\n",
              "      <td>0</td>\n",
              "    </tr>\n",
              "    <tr>\n",
              "      <th>16</th>\n",
              "      <td>22.22</td>\n",
              "      <td>25.55</td>\n",
              "      <td>2.22</td>\n",
              "      <td>5.55</td>\n",
              "      <td>1</td>\n",
              "    </tr>\n",
              "    <tr>\n",
              "      <th>17</th>\n",
              "      <td>19.13</td>\n",
              "      <td>-2.3</td>\n",
              "      <td>7.11</td>\n",
              "      <td>0</td>\n",
              "      <td>0</td>\n",
              "    </tr>\n",
              "    <tr>\n",
              "      <th>18</th>\n",
              "      <td>55.43</td>\n",
              "      <td>2</td>\n",
              "      <td>15.55</td>\n",
              "      <td>7.99</td>\n",
              "      <td>0</td>\n",
              "    </tr>\n",
              "    <tr>\n",
              "      <th>19</th>\n",
              "      <td>46.56</td>\n",
              "      <td>29.44</td>\n",
              "      <td>34.55</td>\n",
              "      <td>3.43</td>\n",
              "      <td>1</td>\n",
              "    </tr>\n",
              "  </tbody>\n",
              "</table>\n",
              "</div>\n",
              "      <button class=\"colab-df-convert\" onclick=\"convertToInteractive('df-7ece9df6-4f3d-41d2-993f-597377019ab3')\"\n",
              "              title=\"Convert this dataframe to an interactive table.\"\n",
              "              style=\"display:none;\">\n",
              "        \n",
              "  <svg xmlns=\"http://www.w3.org/2000/svg\" height=\"24px\"viewBox=\"0 0 24 24\"\n",
              "       width=\"24px\">\n",
              "    <path d=\"M0 0h24v24H0V0z\" fill=\"none\"/>\n",
              "    <path d=\"M18.56 5.44l.94 2.06.94-2.06 2.06-.94-2.06-.94-.94-2.06-.94 2.06-2.06.94zm-11 1L8.5 8.5l.94-2.06 2.06-.94-2.06-.94L8.5 2.5l-.94 2.06-2.06.94zm10 10l.94 2.06.94-2.06 2.06-.94-2.06-.94-.94-2.06-.94 2.06-2.06.94z\"/><path d=\"M17.41 7.96l-1.37-1.37c-.4-.4-.92-.59-1.43-.59-.52 0-1.04.2-1.43.59L10.3 9.45l-7.72 7.72c-.78.78-.78 2.05 0 2.83L4 21.41c.39.39.9.59 1.41.59.51 0 1.02-.2 1.41-.59l7.78-7.78 2.81-2.81c.8-.78.8-2.07 0-2.86zM5.41 20L4 18.59l7.72-7.72 1.47 1.35L5.41 20z\"/>\n",
              "  </svg>\n",
              "      </button>\n",
              "      \n",
              "  <style>\n",
              "    .colab-df-container {\n",
              "      display:flex;\n",
              "      flex-wrap:wrap;\n",
              "      gap: 12px;\n",
              "    }\n",
              "\n",
              "    .colab-df-convert {\n",
              "      background-color: #E8F0FE;\n",
              "      border: none;\n",
              "      border-radius: 50%;\n",
              "      cursor: pointer;\n",
              "      display: none;\n",
              "      fill: #1967D2;\n",
              "      height: 32px;\n",
              "      padding: 0 0 0 0;\n",
              "      width: 32px;\n",
              "    }\n",
              "\n",
              "    .colab-df-convert:hover {\n",
              "      background-color: #E2EBFA;\n",
              "      box-shadow: 0px 1px 2px rgba(60, 64, 67, 0.3), 0px 1px 3px 1px rgba(60, 64, 67, 0.15);\n",
              "      fill: #174EA6;\n",
              "    }\n",
              "\n",
              "    [theme=dark] .colab-df-convert {\n",
              "      background-color: #3B4455;\n",
              "      fill: #D2E3FC;\n",
              "    }\n",
              "\n",
              "    [theme=dark] .colab-df-convert:hover {\n",
              "      background-color: #434B5C;\n",
              "      box-shadow: 0px 1px 3px 1px rgba(0, 0, 0, 0.15);\n",
              "      filter: drop-shadow(0px 1px 2px rgba(0, 0, 0, 0.3));\n",
              "      fill: #FFFFFF;\n",
              "    }\n",
              "  </style>\n",
              "\n",
              "      <script>\n",
              "        const buttonEl =\n",
              "          document.querySelector('#df-7ece9df6-4f3d-41d2-993f-597377019ab3 button.colab-df-convert');\n",
              "        buttonEl.style.display =\n",
              "          google.colab.kernel.accessAllowed ? 'block' : 'none';\n",
              "\n",
              "        async function convertToInteractive(key) {\n",
              "          const element = document.querySelector('#df-7ece9df6-4f3d-41d2-993f-597377019ab3');\n",
              "          const dataTable =\n",
              "            await google.colab.kernel.invokeFunction('convertToInteractive',\n",
              "                                                     [key], {});\n",
              "          if (!dataTable) return;\n",
              "\n",
              "          const docLinkHtml = 'Like what you see? Visit the ' +\n",
              "            '<a target=\"_blank\" href=https://colab.research.google.com/notebooks/data_table.ipynb>data table notebook</a>'\n",
              "            + ' to learn more about interactive tables.';\n",
              "          element.innerHTML = '';\n",
              "          dataTable['output_type'] = 'display_data';\n",
              "          await google.colab.output.renderOutput(dataTable, element);\n",
              "          const docLink = document.createElement('div');\n",
              "          docLink.innerHTML = docLinkHtml;\n",
              "          element.appendChild(docLink);\n",
              "        }\n",
              "      </script>\n",
              "    </div>\n",
              "  </div>\n",
              "  "
            ]
          },
          "metadata": {},
          "execution_count": 48
        }
      ]
    },
    {
      "cell_type": "code",
      "source": [
        "df = np.array(tennis_Weather_Conditions_Tabel)\n",
        "df"
      ],
      "metadata": {
        "colab": {
          "base_uri": "https://localhost:8080/"
        },
        "id": "ImNo7aqVJSNY",
        "outputId": "9439ca43-fa6d-49a6-d1e5-b671d0f0a73e"
      },
      "execution_count": 50,
      "outputs": [
        {
          "output_type": "execute_result",
          "data": {
            "text/plain": [
              "array([['72', '-1', '1', '15', '0'],\n",
              "       ['44', '26.59', '1.9', '10', '1'],\n",
              "       ['66', '3.5', '20', '2', '0'],\n",
              "       ['22', '30', '10', '5', '1'],\n",
              "       ['7', '35', '8', '11', '1'],\n",
              "       ['60', '22', '30', '20', '0'],\n",
              "       ['8', '34', '12', '30', '0'],\n",
              "       ['20', '31', '29', '3', '1'],\n",
              "       ['79', '16', '1.2', '38', '0'],\n",
              "       ['12', '32.33', '1.22', '3.23', '1'],\n",
              "       ['0', '22', '8.25', '3.33', '1'],\n",
              "       ['1.11', '40', '4.01', '2', '0'],\n",
              "       ['4', '33.34', '3.03', '10.22', '1'],\n",
              "       ['9.23', '40', '55', '3.23', '0'],\n",
              "       ['76.23', '12', '1.11', '1.98', '0'],\n",
              "       ['34.22', '30', '0', '20', '0'],\n",
              "       ['22.22', '25.55', '2.22', '5.55', '1'],\n",
              "       ['19.13', '-2.3', '7.11', '0', '0'],\n",
              "       ['55.43', '2', '15.55', '7.99', '0'],\n",
              "       ['46.56', '29.44', '34.55', '3.43', '1']], dtype=object)"
            ]
          },
          "metadata": {},
          "execution_count": 50
        }
      ]
    },
    {
      "cell_type": "code",
      "source": [
        "data = df[:,:-1]\n",
        "target = df[:,-1]"
      ],
      "metadata": {
        "id": "gdtNcmnWWrNk"
      },
      "execution_count": 51,
      "outputs": []
    },
    {
      "cell_type": "code",
      "source": [
        "data_Train, data_Test, target_Train, target_Test = train_test_split(data, target, test_size=0.2)"
      ],
      "metadata": {
        "id": "H-fXWQVH_J48"
      },
      "execution_count": 52,
      "outputs": []
    },
    {
      "cell_type": "code",
      "source": [
        "clf = tree.DecisionTreeClassifier()\n",
        "clf.fit(data_Train, target_Train)\n",
        "predictions= clf.predict(data_Test)\n",
        "print(predictions)\n",
        "print(target_Test)"
      ],
      "metadata": {
        "colab": {
          "base_uri": "https://localhost:8080/"
        },
        "id": "nrNyBaQTX2v1",
        "outputId": "805de7c0-f4cf-4bb9-87c7-1b4ffc7e0361"
      },
      "execution_count": 64,
      "outputs": [
        {
          "output_type": "stream",
          "name": "stdout",
          "text": [
            "['0' '1' '1' '1']\n",
            "['0' '0' '0' '0']\n"
          ]
        }
      ]
    },
    {
      "cell_type": "markdown",
      "source": [
        "# Part B"
      ],
      "metadata": {
        "id": "j-_Ko2XUo1hQ"
      }
    },
    {
      "cell_type": "code",
      "source": [
        "covid_data = pd.read_csv(\"/content/Cleaned-Data2.csv\")\n",
        "df = np.array(covid_data)"
      ],
      "metadata": {
        "id": "HMis6zqu_JzM"
      },
      "execution_count": 74,
      "outputs": []
    },
    {
      "cell_type": "code",
      "source": [
        "X = df[:,:-1]\n",
        "Y = df[:,-1]"
      ],
      "metadata": {
        "id": "GKau0Qnx_Jw5"
      },
      "execution_count": 75,
      "outputs": []
    },
    {
      "cell_type": "code",
      "source": [
        "from sklearn.model_selection import train_test_split\n",
        "X_train, X_test, Y_train, Y_test = train_test_split(X, Y, test_size=0.3)"
      ],
      "metadata": {
        "id": "LOoazLlZ_JuO"
      },
      "execution_count": 76,
      "outputs": []
    },
    {
      "cell_type": "code",
      "source": [
        "covid_clf = tree.DecisionTreeClassifier()\n",
        "covid_clf.fit(X,Y)\n",
        "predictions = covid_clf.predict(X_test)"
      ],
      "metadata": {
        "id": "9wgFgiAztaLm"
      },
      "execution_count": 77,
      "outputs": []
    },
    {
      "cell_type": "code",
      "source": [
        "from sklearn.metrics import accuracy_score\n",
        "print(accuracy_score(Y_test, predictions))"
      ],
      "metadata": {
        "colab": {
          "base_uri": "https://localhost:8080/"
        },
        "id": "shi_WmHit0_9",
        "outputId": "5edd46de-bdb7-4d3d-fb7e-7e4bb952ba0c"
      },
      "execution_count": 78,
      "outputs": [
        {
          "output_type": "stream",
          "name": "stdout",
          "text": [
            "0.750736531986532\n"
          ]
        }
      ]
    }
  ]
}